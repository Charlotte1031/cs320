{
 "cells": [
  {
   "cell_type": "code",
   "execution_count": 1,
   "metadata": {},
   "outputs": [],
   "source": [
    "import pandas as pd\n",
    "import requests\n",
    "import os\n",
    "from collections import defaultdict\n",
    "from datetime import timedelta\n",
    "from sklearn.linear_model import LogisticRegression\n",
    "from sklearn.decomposition import PCA\n",
    "from sklearn.pipeline import Pipeline\n",
    "from sklearn.impute import SimpleImputer\n",
    "from sklearn.preprocessing import StandardScaler\n",
    "from sklearn.metrics import confusion_matrix, precision_score, recall_score\n",
    "from sklearn.model_selection import train_test_split\n",
    "import matplotlib.pyplot as plt"
   ]
  },
  {
   "cell_type": "code",
   "execution_count": 2,
   "metadata": {},
   "outputs": [],
   "source": [
    "plt.rcParams[\"font.size\"] = 16"
   ]
  },
  {
   "cell_type": "code",
   "execution_count": 3,
   "metadata": {},
   "outputs": [
    {
     "name": "stdout",
     "output_type": "stream",
     "text": [
      "(7002, 46)\n"
     ]
    },
    {
     "data": {
      "text/html": [
       "<div>\n",
       "<style scoped>\n",
       "    .dataframe tbody tr th:only-of-type {\n",
       "        vertical-align: middle;\n",
       "    }\n",
       "\n",
       "    .dataframe tbody tr th {\n",
       "        vertical-align: top;\n",
       "    }\n",
       "\n",
       "    .dataframe thead th {\n",
       "        text-align: right;\n",
       "    }\n",
       "</style>\n",
       "<table border=\"1\" class=\"dataframe\">\n",
       "  <thead>\n",
       "    <tr style=\"text-align: right;\">\n",
       "      <th></th>\n",
       "      <th>X</th>\n",
       "      <th>Y</th>\n",
       "      <th>OBJECTID</th>\n",
       "      <th>Cell_rotation</th>\n",
       "      <th>mslink</th>\n",
       "      <th>break_num</th>\n",
       "      <th>pipe_mslink</th>\n",
       "      <th>pipe_type</th>\n",
       "      <th>break_date</th>\n",
       "      <th>house_num</th>\n",
       "      <th>...</th>\n",
       "      <th>created_user</th>\n",
       "      <th>created_date</th>\n",
       "      <th>last_edited_user</th>\n",
       "      <th>last_edited_date</th>\n",
       "      <th>BreakType</th>\n",
       "      <th>BreakTypeOther</th>\n",
       "      <th>StreetSegmentID</th>\n",
       "      <th>CWWOID</th>\n",
       "      <th>CWWOClosedDate</th>\n",
       "      <th>TotalHoursWaterOff</th>\n",
       "    </tr>\n",
       "  </thead>\n",
       "  <tbody>\n",
       "    <tr>\n",
       "      <th>0</th>\n",
       "      <td>-89.402108</td>\n",
       "      <td>43.067694</td>\n",
       "      <td>1</td>\n",
       "      <td>359.603239</td>\n",
       "      <td>1.0</td>\n",
       "      <td>225.0</td>\n",
       "      <td>18715.0</td>\n",
       "      <td>MAIN</td>\n",
       "      <td>2007/11/01 00:00:00+00</td>\n",
       "      <td>918.0</td>\n",
       "      <td>...</td>\n",
       "      <td>NaN</td>\n",
       "      <td>1970/01/01 00:00:00+00</td>\n",
       "      <td>NaN</td>\n",
       "      <td>1970/01/01 00:00:00+00</td>\n",
       "      <td>NaN</td>\n",
       "      <td>NaN</td>\n",
       "      <td>4996.0</td>\n",
       "      <td>NaN</td>\n",
       "      <td>1970/01/01 00:00:00+00</td>\n",
       "      <td>NaN</td>\n",
       "    </tr>\n",
       "    <tr>\n",
       "      <th>1</th>\n",
       "      <td>-89.353687</td>\n",
       "      <td>43.109985</td>\n",
       "      <td>3</td>\n",
       "      <td>359.602939</td>\n",
       "      <td>27.0</td>\n",
       "      <td>226.0</td>\n",
       "      <td>15257.0</td>\n",
       "      <td>MAIN</td>\n",
       "      <td>2007/11/02 00:00:00+00</td>\n",
       "      <td>2255.0</td>\n",
       "      <td>...</td>\n",
       "      <td>NaN</td>\n",
       "      <td>1970/01/01 00:00:00+00</td>\n",
       "      <td>WUPTB</td>\n",
       "      <td>2018/02/15 14:38:16+00</td>\n",
       "      <td>NaN</td>\n",
       "      <td>NaN</td>\n",
       "      <td>2031.0</td>\n",
       "      <td>NaN</td>\n",
       "      <td>1970/01/01 00:00:00+00</td>\n",
       "      <td>NaN</td>\n",
       "    </tr>\n",
       "    <tr>\n",
       "      <th>2</th>\n",
       "      <td>-89.323967</td>\n",
       "      <td>43.088787</td>\n",
       "      <td>4</td>\n",
       "      <td>359.602863</td>\n",
       "      <td>28.0</td>\n",
       "      <td>227.0</td>\n",
       "      <td>12532.0</td>\n",
       "      <td>MAIN</td>\n",
       "      <td>2007/11/05 00:00:00+00</td>\n",
       "      <td>3701.0</td>\n",
       "      <td>...</td>\n",
       "      <td>NaN</td>\n",
       "      <td>1970/01/01 00:00:00+00</td>\n",
       "      <td>WUPTB</td>\n",
       "      <td>2018/02/15 14:38:16+00</td>\n",
       "      <td>NaN</td>\n",
       "      <td>NaN</td>\n",
       "      <td>2610.0</td>\n",
       "      <td>NaN</td>\n",
       "      <td>1970/01/01 00:00:00+00</td>\n",
       "      <td>NaN</td>\n",
       "    </tr>\n",
       "    <tr>\n",
       "      <th>3</th>\n",
       "      <td>-89.295381</td>\n",
       "      <td>43.090665</td>\n",
       "      <td>5</td>\n",
       "      <td>44.602085</td>\n",
       "      <td>30.0</td>\n",
       "      <td>228.0</td>\n",
       "      <td>11178.0</td>\n",
       "      <td>MAIN</td>\n",
       "      <td>2007/11/07 00:00:00+00</td>\n",
       "      <td>533.0</td>\n",
       "      <td>...</td>\n",
       "      <td>NaN</td>\n",
       "      <td>1970/01/01 00:00:00+00</td>\n",
       "      <td>WUPTB</td>\n",
       "      <td>2018/02/15 14:38:16+00</td>\n",
       "      <td>NaN</td>\n",
       "      <td>NaN</td>\n",
       "      <td>3299.0</td>\n",
       "      <td>NaN</td>\n",
       "      <td>1970/01/01 00:00:00+00</td>\n",
       "      <td>NaN</td>\n",
       "    </tr>\n",
       "    <tr>\n",
       "      <th>4</th>\n",
       "      <td>-89.318239</td>\n",
       "      <td>43.089422</td>\n",
       "      <td>7</td>\n",
       "      <td>359.602838</td>\n",
       "      <td>32.0</td>\n",
       "      <td>230.0</td>\n",
       "      <td>12647.0</td>\n",
       "      <td>MAIN</td>\n",
       "      <td>2007/11/09 00:00:00+00</td>\n",
       "      <td>3906.0</td>\n",
       "      <td>...</td>\n",
       "      <td>NaN</td>\n",
       "      <td>1970/01/01 00:00:00+00</td>\n",
       "      <td>WUPTB</td>\n",
       "      <td>2018/02/15 14:38:16+00</td>\n",
       "      <td>NaN</td>\n",
       "      <td>NaN</td>\n",
       "      <td>3055.0</td>\n",
       "      <td>NaN</td>\n",
       "      <td>1970/01/01 00:00:00+00</td>\n",
       "      <td>NaN</td>\n",
       "    </tr>\n",
       "  </tbody>\n",
       "</table>\n",
       "<p>5 rows × 46 columns</p>\n",
       "</div>"
      ],
      "text/plain": [
       "           X          Y  OBJECTID  Cell_rotation  mslink  break_num  \\\n",
       "0 -89.402108  43.067694         1     359.603239     1.0      225.0   \n",
       "1 -89.353687  43.109985         3     359.602939    27.0      226.0   \n",
       "2 -89.323967  43.088787         4     359.602863    28.0      227.0   \n",
       "3 -89.295381  43.090665         5      44.602085    30.0      228.0   \n",
       "4 -89.318239  43.089422         7     359.602838    32.0      230.0   \n",
       "\n",
       "   pipe_mslink pipe_type              break_date  house_num  ... created_user  \\\n",
       "0      18715.0      MAIN  2007/11/01 00:00:00+00      918.0  ...          NaN   \n",
       "1      15257.0      MAIN  2007/11/02 00:00:00+00     2255.0  ...          NaN   \n",
       "2      12532.0      MAIN  2007/11/05 00:00:00+00     3701.0  ...          NaN   \n",
       "3      11178.0      MAIN  2007/11/07 00:00:00+00      533.0  ...          NaN   \n",
       "4      12647.0      MAIN  2007/11/09 00:00:00+00     3906.0  ...          NaN   \n",
       "\n",
       "             created_date last_edited_user        last_edited_date BreakType  \\\n",
       "0  1970/01/01 00:00:00+00              NaN  1970/01/01 00:00:00+00       NaN   \n",
       "1  1970/01/01 00:00:00+00            WUPTB  2018/02/15 14:38:16+00       NaN   \n",
       "2  1970/01/01 00:00:00+00            WUPTB  2018/02/15 14:38:16+00       NaN   \n",
       "3  1970/01/01 00:00:00+00            WUPTB  2018/02/15 14:38:16+00       NaN   \n",
       "4  1970/01/01 00:00:00+00            WUPTB  2018/02/15 14:38:16+00       NaN   \n",
       "\n",
       "  BreakTypeOther StreetSegmentID CWWOID          CWWOClosedDate  \\\n",
       "0            NaN          4996.0    NaN  1970/01/01 00:00:00+00   \n",
       "1            NaN          2031.0    NaN  1970/01/01 00:00:00+00   \n",
       "2            NaN          2610.0    NaN  1970/01/01 00:00:00+00   \n",
       "3            NaN          3299.0    NaN  1970/01/01 00:00:00+00   \n",
       "4            NaN          3055.0    NaN  1970/01/01 00:00:00+00   \n",
       "\n",
       "   TotalHoursWaterOff  \n",
       "0                 NaN  \n",
       "1                 NaN  \n",
       "2                 NaN  \n",
       "3                 NaN  \n",
       "4                 NaN  \n",
       "\n",
       "[5 rows x 46 columns]"
      ]
     },
     "execution_count": 3,
     "metadata": {},
     "output_type": "execute_result"
    }
   ],
   "source": [
    "# load breaks data, downloading on the first time if necessary:\n",
    "# https://data-cityofmadison.opendata.arcgis.com/datasets/water-main-breaks\n",
    "url = \"https://opendata.arcgis.com/datasets/7bafc50c75fe430e9bac6edd72126c0a_5.csv\"\n",
    "\n",
    "if not os.path.exists(\"breaks.csv\"):\n",
    "    print(\"DOWNLOAD\")\n",
    "    df = pd.read_csv(url)\n",
    "    df.to_csv(\"breaks.csv\", index=False)\n",
    "\n",
    "df = pd.read_csv(\"breaks.csv\")\n",
    "print(df.shape)\n",
    "df.head()"
   ]
  },
  {
   "cell_type": "code",
   "execution_count": 4,
   "metadata": {},
   "outputs": [
    {
     "data": {
      "text/plain": [
       "-1    0.542559\n",
       " 0    0.457441\n",
       "Name: break_date, dtype: float64"
      ]
     },
     "execution_count": 4,
     "metadata": {},
     "output_type": "execute_result"
    }
   ],
   "source": [
    "df[\"break_date\"].str.find(\"1970/01/01\").value_counts() / len(df)"
   ]
  },
  {
   "cell_type": "code",
   "execution_count": 5,
   "metadata": {},
   "outputs": [
    {
     "data": {
      "text/plain": [
       "Clay                  1177\n",
       "clay                   526\n",
       "sand                   181\n",
       "Clay, rock             143\n",
       "Sand                   137\n",
       "                      ... \n",
       "Clay, sand, gravel       1\n",
       "Gravel/Sand              1\n",
       "Sand, boulders           1\n",
       "sandy/rock               1\n",
       "Landfill junk            1\n",
       "Name: soil_type, Length: 328, dtype: int64"
      ]
     },
     "execution_count": 5,
     "metadata": {},
     "output_type": "execute_result"
    }
   ],
   "source": [
    "df[\"soil_type\"].value_counts()"
   ]
  },
  {
   "cell_type": "code",
   "execution_count": 6,
   "metadata": {},
   "outputs": [
    {
     "name": "stdout",
     "output_type": "stream",
     "text": [
      "X, Y, OBJECTID, Cell_rotation, mslink, break_num, pipe_mslink, pipe_type, break_date, house_num, street_dir, street_name, street_type, Location, time_received, time_at_scene, time_off, time_on, num_bldgs_off, pipe_size, pipe_depth_ft, frost_depth_in, soil_type, remarks, break_year, break_month, break_day, materials_used, MainID, AssetCode, PageNumber, AssetNumber, FacilityID, MainRetired, BreakID, ICOUNT, created_user, created_date, last_edited_user, last_edited_date, BreakType, BreakTypeOther, StreetSegmentID, CWWOID, CWWOClosedDate, TotalHoursWaterOff\n"
     ]
    }
   ],
   "source": [
    "print(\", \".join(df.columns))"
   ]
  },
  {
   "cell_type": "code",
   "execution_count": 7,
   "metadata": {},
   "outputs": [
    {
     "data": {
      "text/html": [
       "<div>\n",
       "<style scoped>\n",
       "    .dataframe tbody tr th:only-of-type {\n",
       "        vertical-align: middle;\n",
       "    }\n",
       "\n",
       "    .dataframe tbody tr th {\n",
       "        vertical-align: top;\n",
       "    }\n",
       "\n",
       "    .dataframe thead th {\n",
       "        text-align: right;\n",
       "    }\n",
       "</style>\n",
       "<table border=\"1\" class=\"dataframe\">\n",
       "  <thead>\n",
       "    <tr style=\"text-align: right;\">\n",
       "      <th></th>\n",
       "      <th>MainID</th>\n",
       "      <th>pipe_size</th>\n",
       "      <th>pipe_depth_ft</th>\n",
       "      <th>break_date</th>\n",
       "      <th>break_month</th>\n",
       "      <th>clay</th>\n",
       "      <th>rock</th>\n",
       "      <th>sand</th>\n",
       "      <th>gravel</th>\n",
       "      <th>winter</th>\n",
       "    </tr>\n",
       "  </thead>\n",
       "  <tbody>\n",
       "    <tr>\n",
       "      <th>4106</th>\n",
       "      <td>MAIN-6943-13636</td>\n",
       "      <td>NaN</td>\n",
       "      <td>NaN</td>\n",
       "      <td>-8435.0</td>\n",
       "      <td>1</td>\n",
       "      <td>0</td>\n",
       "      <td>0</td>\n",
       "      <td>0</td>\n",
       "      <td>0</td>\n",
       "      <td>1.0</td>\n",
       "    </tr>\n",
       "    <tr>\n",
       "      <th>2661</th>\n",
       "      <td>MAIN-6336-18809</td>\n",
       "      <td>NaN</td>\n",
       "      <td>NaN</td>\n",
       "      <td>-8402.0</td>\n",
       "      <td>2</td>\n",
       "      <td>0</td>\n",
       "      <td>0</td>\n",
       "      <td>0</td>\n",
       "      <td>0</td>\n",
       "      <td>1.0</td>\n",
       "    </tr>\n",
       "    <tr>\n",
       "      <th>2800</th>\n",
       "      <td>MAIN-5744-15604</td>\n",
       "      <td>10.0</td>\n",
       "      <td>3.0</td>\n",
       "      <td>-8156.0</td>\n",
       "      <td>10</td>\n",
       "      <td>1</td>\n",
       "      <td>0</td>\n",
       "      <td>1</td>\n",
       "      <td>0</td>\n",
       "      <td>0.0</td>\n",
       "    </tr>\n",
       "    <tr>\n",
       "      <th>4108</th>\n",
       "      <td>MAIN-3749-6440</td>\n",
       "      <td>NaN</td>\n",
       "      <td>NaN</td>\n",
       "      <td>-7859.0</td>\n",
       "      <td>8</td>\n",
       "      <td>0</td>\n",
       "      <td>0</td>\n",
       "      <td>0</td>\n",
       "      <td>0</td>\n",
       "      <td>0.0</td>\n",
       "    </tr>\n",
       "    <tr>\n",
       "      <th>4109</th>\n",
       "      <td>MAIN-6860-16497</td>\n",
       "      <td>NaN</td>\n",
       "      <td>NaN</td>\n",
       "      <td>-7839.0</td>\n",
       "      <td>8</td>\n",
       "      <td>0</td>\n",
       "      <td>0</td>\n",
       "      <td>0</td>\n",
       "      <td>0</td>\n",
       "      <td>0.0</td>\n",
       "    </tr>\n",
       "    <tr>\n",
       "      <th>...</th>\n",
       "      <td>...</td>\n",
       "      <td>...</td>\n",
       "      <td>...</td>\n",
       "      <td>...</td>\n",
       "      <td>...</td>\n",
       "      <td>...</td>\n",
       "      <td>...</td>\n",
       "      <td>...</td>\n",
       "      <td>...</td>\n",
       "      <td>...</td>\n",
       "    </tr>\n",
       "    <tr>\n",
       "      <th>6833</th>\n",
       "      <td>MAIN-4949-5931</td>\n",
       "      <td>NaN</td>\n",
       "      <td>NaN</td>\n",
       "      <td>-131.0</td>\n",
       "      <td>9</td>\n",
       "      <td>0</td>\n",
       "      <td>0</td>\n",
       "      <td>0</td>\n",
       "      <td>0</td>\n",
       "      <td>0.0</td>\n",
       "    </tr>\n",
       "    <tr>\n",
       "      <th>6834</th>\n",
       "      <td>MAIN-2859-4488</td>\n",
       "      <td>NaN</td>\n",
       "      <td>NaN</td>\n",
       "      <td>-127.0</td>\n",
       "      <td>10</td>\n",
       "      <td>0</td>\n",
       "      <td>0</td>\n",
       "      <td>0</td>\n",
       "      <td>0</td>\n",
       "      <td>0.0</td>\n",
       "    </tr>\n",
       "    <tr>\n",
       "      <th>6837</th>\n",
       "      <td>MAIN-6729-19170</td>\n",
       "      <td>NaN</td>\n",
       "      <td>NaN</td>\n",
       "      <td>-123.0</td>\n",
       "      <td>10</td>\n",
       "      <td>0</td>\n",
       "      <td>0</td>\n",
       "      <td>0</td>\n",
       "      <td>0</td>\n",
       "      <td>0.0</td>\n",
       "    </tr>\n",
       "    <tr>\n",
       "      <th>6917</th>\n",
       "      <td>MAIN-6529-18046</td>\n",
       "      <td>NaN</td>\n",
       "      <td>NaN</td>\n",
       "      <td>0.0</td>\n",
       "      <td>2</td>\n",
       "      <td>0</td>\n",
       "      <td>0</td>\n",
       "      <td>0</td>\n",
       "      <td>0</td>\n",
       "      <td>1.0</td>\n",
       "    </tr>\n",
       "    <tr>\n",
       "      <th>6918</th>\n",
       "      <td>MAIN-6529-18046</td>\n",
       "      <td>NaN</td>\n",
       "      <td>NaN</td>\n",
       "      <td>0.0</td>\n",
       "      <td>2</td>\n",
       "      <td>0</td>\n",
       "      <td>0</td>\n",
       "      <td>0</td>\n",
       "      <td>0</td>\n",
       "      <td>1.0</td>\n",
       "    </tr>\n",
       "  </tbody>\n",
       "</table>\n",
       "<p>3361 rows × 10 columns</p>\n",
       "</div>"
      ],
      "text/plain": [
       "               MainID  pipe_size  pipe_depth_ft  break_date  break_month  \\\n",
       "4106  MAIN-6943-13636        NaN            NaN     -8435.0            1   \n",
       "2661  MAIN-6336-18809        NaN            NaN     -8402.0            2   \n",
       "2800  MAIN-5744-15604       10.0            3.0     -8156.0           10   \n",
       "4108   MAIN-3749-6440        NaN            NaN     -7859.0            8   \n",
       "4109  MAIN-6860-16497        NaN            NaN     -7839.0            8   \n",
       "...               ...        ...            ...         ...          ...   \n",
       "6833   MAIN-4949-5931        NaN            NaN      -131.0            9   \n",
       "6834   MAIN-2859-4488        NaN            NaN      -127.0           10   \n",
       "6837  MAIN-6729-19170        NaN            NaN      -123.0           10   \n",
       "6917  MAIN-6529-18046        NaN            NaN         0.0            2   \n",
       "6918  MAIN-6529-18046        NaN            NaN         0.0            2   \n",
       "\n",
       "      clay  rock  sand  gravel  winter  \n",
       "4106     0     0     0       0     1.0  \n",
       "2661     0     0     0       0     1.0  \n",
       "2800     1     0     1       0     0.0  \n",
       "4108     0     0     0       0     0.0  \n",
       "4109     0     0     0       0     0.0  \n",
       "...    ...   ...   ...     ...     ...  \n",
       "6833     0     0     0       0     0.0  \n",
       "6834     0     0     0       0     0.0  \n",
       "6837     0     0     0       0     0.0  \n",
       "6917     0     0     0       0     1.0  \n",
       "6918     0     0     0       0     1.0  \n",
       "\n",
       "[3361 rows x 10 columns]"
      ]
     },
     "execution_count": 7,
     "metadata": {},
     "output_type": "execute_result"
    }
   ],
   "source": [
    "columns = [\"MainID\", \"pipe_size\", \"pipe_depth_ft\", \"soil_type\", \"break_date\", \"break_month\"]\n",
    "mains = df[(df[\"pipe_type\"] == \"MAIN\") & (df[\"break_date\"].str.find(\"1970/01/01\") == -1)][columns].copy()\n",
    "\n",
    "# soil type\n",
    "for t in [\"clay\", \"rock\", \"sand\", \"gravel\"]:\n",
    "    mains[t] = (df[\"soil_type\"].str.lower().str.find(t) >= 0).astype(int)\n",
    "mains.drop(columns=[\"soil_type\"], inplace=True)\n",
    "\n",
    "# season\n",
    "mains[\"break_month\"] = mains[\"break_date\"].str.split(\"/\", expand=True)[1].astype(int)\n",
    "mains[\"winter\"] = mains[\"break_month\"].isin([12,1,2])\n",
    "mains.loc[mains[\"break_month\"].isna(), \"winter\"] = float(\"nan\")\n",
    "\n",
    "# count up towards most recent date (which is numbered 0)\n",
    "mains[\"break_date\"] = pd.to_datetime(df[\"break_date\"])\n",
    "mains[\"break_date\"] = (mains[\"break_date\"] - mains[\"break_date\"].max()) / timedelta(days=1)\n",
    "mains = mains.sort_values(by=\"break_date\").copy()\n",
    "mains"
   ]
  },
  {
   "cell_type": "code",
   "execution_count": 8,
   "metadata": {},
   "outputs": [
    {
     "data": {
      "text/html": [
       "<div>\n",
       "<style scoped>\n",
       "    .dataframe tbody tr th:only-of-type {\n",
       "        vertical-align: middle;\n",
       "    }\n",
       "\n",
       "    .dataframe tbody tr th {\n",
       "        vertical-align: top;\n",
       "    }\n",
       "\n",
       "    .dataframe thead th {\n",
       "        text-align: right;\n",
       "    }\n",
       "</style>\n",
       "<table border=\"1\" class=\"dataframe\">\n",
       "  <thead>\n",
       "    <tr style=\"text-align: right;\">\n",
       "      <th></th>\n",
       "      <th>MainID</th>\n",
       "      <th>pipe_size</th>\n",
       "      <th>pipe_depth_ft</th>\n",
       "      <th>break_date</th>\n",
       "      <th>break_month</th>\n",
       "      <th>clay</th>\n",
       "      <th>rock</th>\n",
       "      <th>sand</th>\n",
       "      <th>gravel</th>\n",
       "      <th>winter</th>\n",
       "      <th>prior_breaks</th>\n",
       "      <th>next_break</th>\n",
       "      <th>break_again</th>\n",
       "    </tr>\n",
       "  </thead>\n",
       "  <tbody>\n",
       "    <tr>\n",
       "      <th>0</th>\n",
       "      <td>MAIN-6943-13636</td>\n",
       "      <td>NaN</td>\n",
       "      <td>NaN</td>\n",
       "      <td>-8435.0</td>\n",
       "      <td>1</td>\n",
       "      <td>0</td>\n",
       "      <td>0</td>\n",
       "      <td>0</td>\n",
       "      <td>0</td>\n",
       "      <td>1.0</td>\n",
       "      <td>0.0</td>\n",
       "      <td>3961.0</td>\n",
       "      <td>False</td>\n",
       "    </tr>\n",
       "    <tr>\n",
       "      <th>1</th>\n",
       "      <td>MAIN-6336-18809</td>\n",
       "      <td>NaN</td>\n",
       "      <td>NaN</td>\n",
       "      <td>-8402.0</td>\n",
       "      <td>2</td>\n",
       "      <td>0</td>\n",
       "      <td>0</td>\n",
       "      <td>0</td>\n",
       "      <td>0</td>\n",
       "      <td>1.0</td>\n",
       "      <td>0.0</td>\n",
       "      <td>5081.0</td>\n",
       "      <td>False</td>\n",
       "    </tr>\n",
       "    <tr>\n",
       "      <th>2</th>\n",
       "      <td>MAIN-5744-15604</td>\n",
       "      <td>10.0</td>\n",
       "      <td>3.00</td>\n",
       "      <td>-8156.0</td>\n",
       "      <td>10</td>\n",
       "      <td>1</td>\n",
       "      <td>0</td>\n",
       "      <td>1</td>\n",
       "      <td>0</td>\n",
       "      <td>0.0</td>\n",
       "      <td>0.0</td>\n",
       "      <td>inf</td>\n",
       "      <td>False</td>\n",
       "    </tr>\n",
       "    <tr>\n",
       "      <th>3</th>\n",
       "      <td>MAIN-3749-6440</td>\n",
       "      <td>NaN</td>\n",
       "      <td>NaN</td>\n",
       "      <td>-7859.0</td>\n",
       "      <td>8</td>\n",
       "      <td>0</td>\n",
       "      <td>0</td>\n",
       "      <td>0</td>\n",
       "      <td>0</td>\n",
       "      <td>0.0</td>\n",
       "      <td>0.0</td>\n",
       "      <td>934.0</td>\n",
       "      <td>True</td>\n",
       "    </tr>\n",
       "    <tr>\n",
       "      <th>4</th>\n",
       "      <td>MAIN-6860-16497</td>\n",
       "      <td>NaN</td>\n",
       "      <td>NaN</td>\n",
       "      <td>-7839.0</td>\n",
       "      <td>8</td>\n",
       "      <td>0</td>\n",
       "      <td>0</td>\n",
       "      <td>0</td>\n",
       "      <td>0</td>\n",
       "      <td>0.0</td>\n",
       "      <td>0.0</td>\n",
       "      <td>inf</td>\n",
       "      <td>False</td>\n",
       "    </tr>\n",
       "    <tr>\n",
       "      <th>...</th>\n",
       "      <td>...</td>\n",
       "      <td>...</td>\n",
       "      <td>...</td>\n",
       "      <td>...</td>\n",
       "      <td>...</td>\n",
       "      <td>...</td>\n",
       "      <td>...</td>\n",
       "      <td>...</td>\n",
       "      <td>...</td>\n",
       "      <td>...</td>\n",
       "      <td>...</td>\n",
       "      <td>...</td>\n",
       "      <td>...</td>\n",
       "    </tr>\n",
       "    <tr>\n",
       "      <th>2694</th>\n",
       "      <td>MAIN-6553-14844</td>\n",
       "      <td>6.0</td>\n",
       "      <td>5.50</td>\n",
       "      <td>-1830.0</td>\n",
       "      <td>2</td>\n",
       "      <td>0</td>\n",
       "      <td>0</td>\n",
       "      <td>1</td>\n",
       "      <td>0</td>\n",
       "      <td>1.0</td>\n",
       "      <td>0.0</td>\n",
       "      <td>inf</td>\n",
       "      <td>False</td>\n",
       "    </tr>\n",
       "    <tr>\n",
       "      <th>2695</th>\n",
       "      <td>MAIN-4922-17390</td>\n",
       "      <td>6.0</td>\n",
       "      <td>5.67</td>\n",
       "      <td>-1829.0</td>\n",
       "      <td>2</td>\n",
       "      <td>1</td>\n",
       "      <td>0</td>\n",
       "      <td>0</td>\n",
       "      <td>0</td>\n",
       "      <td>1.0</td>\n",
       "      <td>0.0</td>\n",
       "      <td>inf</td>\n",
       "      <td>False</td>\n",
       "    </tr>\n",
       "    <tr>\n",
       "      <th>2696</th>\n",
       "      <td>MAIN-3247-6353</td>\n",
       "      <td>6.0</td>\n",
       "      <td>5.50</td>\n",
       "      <td>-1827.0</td>\n",
       "      <td>2</td>\n",
       "      <td>1</td>\n",
       "      <td>0</td>\n",
       "      <td>0</td>\n",
       "      <td>0</td>\n",
       "      <td>1.0</td>\n",
       "      <td>4.0</td>\n",
       "      <td>inf</td>\n",
       "      <td>False</td>\n",
       "    </tr>\n",
       "    <tr>\n",
       "      <th>2697</th>\n",
       "      <td>MAIN-3348-6424</td>\n",
       "      <td>6.0</td>\n",
       "      <td>5.00</td>\n",
       "      <td>-1827.0</td>\n",
       "      <td>2</td>\n",
       "      <td>1</td>\n",
       "      <td>0</td>\n",
       "      <td>0</td>\n",
       "      <td>0</td>\n",
       "      <td>1.0</td>\n",
       "      <td>4.0</td>\n",
       "      <td>36.0</td>\n",
       "      <td>True</td>\n",
       "    </tr>\n",
       "    <tr>\n",
       "      <th>2698</th>\n",
       "      <td>MAIN-3867-8296</td>\n",
       "      <td>6.0</td>\n",
       "      <td>6.67</td>\n",
       "      <td>-1826.0</td>\n",
       "      <td>2</td>\n",
       "      <td>1</td>\n",
       "      <td>0</td>\n",
       "      <td>0</td>\n",
       "      <td>0</td>\n",
       "      <td>1.0</td>\n",
       "      <td>4.0</td>\n",
       "      <td>inf</td>\n",
       "      <td>False</td>\n",
       "    </tr>\n",
       "  </tbody>\n",
       "</table>\n",
       "<p>2699 rows × 13 columns</p>\n",
       "</div>"
      ],
      "text/plain": [
       "               MainID  pipe_size  pipe_depth_ft  break_date  break_month  \\\n",
       "0     MAIN-6943-13636        NaN            NaN     -8435.0            1   \n",
       "1     MAIN-6336-18809        NaN            NaN     -8402.0            2   \n",
       "2     MAIN-5744-15604       10.0           3.00     -8156.0           10   \n",
       "3      MAIN-3749-6440        NaN            NaN     -7859.0            8   \n",
       "4     MAIN-6860-16497        NaN            NaN     -7839.0            8   \n",
       "...               ...        ...            ...         ...          ...   \n",
       "2694  MAIN-6553-14844        6.0           5.50     -1830.0            2   \n",
       "2695  MAIN-4922-17390        6.0           5.67     -1829.0            2   \n",
       "2696   MAIN-3247-6353        6.0           5.50     -1827.0            2   \n",
       "2697   MAIN-3348-6424        6.0           5.00     -1827.0            2   \n",
       "2698   MAIN-3867-8296        6.0           6.67     -1826.0            2   \n",
       "\n",
       "      clay  rock  sand  gravel  winter  prior_breaks  next_break  break_again  \n",
       "0        0     0     0       0     1.0           0.0      3961.0        False  \n",
       "1        0     0     0       0     1.0           0.0      5081.0        False  \n",
       "2        1     0     1       0     0.0           0.0         inf        False  \n",
       "3        0     0     0       0     0.0           0.0       934.0         True  \n",
       "4        0     0     0       0     0.0           0.0         inf        False  \n",
       "...    ...   ...   ...     ...     ...           ...         ...          ...  \n",
       "2694     0     0     1       0     1.0           0.0         inf        False  \n",
       "2695     1     0     0       0     1.0           0.0         inf        False  \n",
       "2696     1     0     0       0     1.0           4.0         inf        False  \n",
       "2697     1     0     0       0     1.0           4.0        36.0         True  \n",
       "2698     1     0     0       0     1.0           4.0         inf        False  \n",
       "\n",
       "[2699 rows x 13 columns]"
      ]
     },
     "execution_count": 8,
     "metadata": {},
     "output_type": "execute_result"
    }
   ],
   "source": [
    "# total number of breaks\n",
    "prior_breaks = defaultdict(int)\n",
    "for i in mains.index:\n",
    "    mainID = mains.at[i, \"MainID\"]\n",
    "    mains.at[i, \"prior_breaks\"] = prior_breaks[mainID]\n",
    "    prior_breaks[mainID] += 1\n",
    "\n",
    "# time until next break\n",
    "next_break = {} # key: MainID, val: date (as a negative int) of next break\n",
    "mains[\"next_break\"] = float(\"inf\")\n",
    "for i in reversed(mains.index):\n",
    "    mainID, day = mains.at[i, \"MainID\"], mains.at[i, \"break_date\"]\n",
    "    if mainID in next_break:\n",
    "        mains.at[i, \"next_break\"] = next_break[mainID] - day\n",
    "    next_break[mainID] = day\n",
    "\n",
    "# does it break again in the given time window?\n",
    "# filter out the most recent data for which we don't know the whole window yet\n",
    "time_window = 5 * 365\n",
    "mains[\"break_again\"] = (mains[\"next_break\"] > 0) & (mains[\"next_break\"] < time_window)\n",
    "mains = mains[mains[\"break_date\"] < -time_window]\n",
    "mains = mains.reset_index(drop=True).copy()\n",
    "mains"
   ]
  },
  {
   "cell_type": "code",
   "execution_count": 9,
   "metadata": {},
   "outputs": [
    {
     "data": {
      "text/plain": [
       "23.10958904109589"
      ]
     },
     "execution_count": 9,
     "metadata": {},
     "output_type": "execute_result"
    }
   ],
   "source": [
    "(-mains[\"break_date\"].min()) / 365"
   ]
  },
  {
   "cell_type": "code",
   "execution_count": 10,
   "metadata": {},
   "outputs": [
    {
     "data": {
      "text/plain": [
       "18.106849315068494"
      ]
     },
     "execution_count": 10,
     "metadata": {},
     "output_type": "execute_result"
    }
   ],
   "source": [
    "years = (mains[\"break_date\"].max() - mains[\"break_date\"].min()) / 365\n",
    "years"
   ]
  },
  {
   "cell_type": "code",
   "execution_count": 11,
   "metadata": {},
   "outputs": [
    {
     "data": {
      "text/plain": [
       "Text(0.5, 1.0, 'Figure 1: Seasonal Effect on Breaks')"
      ]
     },
     "execution_count": 11,
     "metadata": {},
     "output_type": "execute_result"
    },
    {
     "data": {
      "image/png": "[encoded data removed]",
      "text/plain": [
       "<Figure size 432x288 with 1 Axes>"
      ]
     },
     "metadata": {
      "needs_background": "light"
     },
     "output_type": "display_data"
    }
   ],
   "source": [
    "all_breaks = mains[\"break_month\"].value_counts().sort_index() / years\n",
    "will_repeat = mains[mains[\"break_again\"]][\"break_month\"].value_counts().sort_index() / years\n",
    "ax = all_breaks.plot.line(label=\"all breaks\")\n",
    "will_repeat.plot.line(ax=ax, label=\"will break again <5 years\")\n",
    "ax.legend(frameon=False)\n",
    "ax.set_xticks(range(1,13))\n",
    "ax.set_xticklabels([\"JAN\", \"FEB\", \"MAR\", \"APR\", \"MAY\", \"JUN\", \"JUL\", \"AUG\", \"SEP\", \"OCT\", \"NOV\", \"DEC\"], rotation=90)\n",
    "ax.spines[\"top\"].set_visible(False)\n",
    "ax.spines[\"right\"].set_visible(False)\n",
    "ax.set_ylabel(\"Average Breaks/Month\")\n",
    "ax.set_title(\"Figure 1: Seasonal Effect on Breaks\", pad=20)"
   ]
  },
  {
   "cell_type": "code",
   "execution_count": 12,
   "metadata": {},
   "outputs": [
    {
     "data": {
      "text/plain": [
       "1     755\n",
       "2     583\n",
       "12    453\n",
       "3     196\n",
       "11    159\n",
       "9     108\n",
       "8     100\n",
       "10     89\n",
       "7      85\n",
       "6      66\n",
       "5      54\n",
       "4      51\n",
       "Name: break_month, dtype: int64"
      ]
     },
     "execution_count": 12,
     "metadata": {},
     "output_type": "execute_result"
    }
   ],
   "source": [
    "mains[\"break_month\"].value_counts()"
   ]
  },
  {
   "cell_type": "code",
   "execution_count": 13,
   "metadata": {},
   "outputs": [
    {
     "name": "stdout",
     "output_type": "stream",
     "text": [
      "0.6635791033716191\n"
     ]
    },
    {
     "data": {
      "text/plain": [
       "1     0.279733\n",
       "2     0.216006\n",
       "12    0.167840\n",
       "3     0.072619\n",
       "11    0.058911\n",
       "9     0.040015\n",
       "8     0.037051\n",
       "10    0.032975\n",
       "7     0.031493\n",
       "6     0.024454\n",
       "5     0.020007\n",
       "4     0.018896\n",
       "Name: break_month, dtype: float64"
      ]
     },
     "execution_count": 13,
     "metadata": {},
     "output_type": "execute_result"
    }
   ],
   "source": [
    "dist = mains[\"break_month\"].value_counts() / len(mains)\n",
    "print(dist[:3].sum())\n",
    "dist"
   ]
  },
  {
   "cell_type": "code",
   "execution_count": 14,
   "metadata": {},
   "outputs": [
    {
     "name": "stdout",
     "output_type": "stream",
     "text": [
      "0.6891385767790262\n"
     ]
    },
    {
     "data": {
      "text/plain": [
       "1     0.278402\n",
       "2     0.225968\n",
       "12    0.184769\n",
       "3     0.063670\n",
       "11    0.053683\n",
       "8     0.038702\n",
       "10    0.034956\n",
       "7     0.027466\n",
       "9     0.024969\n",
       "6     0.024969\n",
       "5     0.021223\n",
       "4     0.021223\n",
       "Name: break_month, dtype: float64"
      ]
     },
     "execution_count": 14,
     "metadata": {},
     "output_type": "execute_result"
    }
   ],
   "source": [
    "break_again = mains[mains[\"break_again\"]]\n",
    "dist = break_again[\"break_month\"].value_counts() / len(break_again)\n",
    "print(dist[:3].sum())\n",
    "dist"
   ]
  },
  {
   "cell_type": "code",
   "execution_count": 15,
   "metadata": {},
   "outputs": [
    {
     "data": {
      "text/plain": [
       "False    0.703223\n",
       "True     0.296777\n",
       "Name: break_again, dtype: float64"
      ]
     },
     "execution_count": 15,
     "metadata": {},
     "output_type": "execute_result"
    }
   ],
   "source": [
    "mains[\"break_again\"].value_counts() / len(mains)"
   ]
  },
  {
   "cell_type": "code",
   "execution_count": 16,
   "metadata": {},
   "outputs": [],
   "source": [
    "xcols = [\"prior_breaks\", \"pipe_size\", \"pipe_depth_ft\", \"winter\", \"clay\", \"rock\", \"sand\", \"gravel\"]\n",
    "ycol = \"break_again\""
   ]
  },
  {
   "cell_type": "code",
   "execution_count": 17,
   "metadata": {},
   "outputs": [
    {
     "name": "stdout",
     "output_type": "stream",
     "text": [
      "1    0.487680\n",
      "2    0.756154\n",
      "3    0.852926\n",
      "4    0.901201\n",
      "5    0.940919\n",
      "6    0.969069\n",
      "7    0.990057\n",
      "8    1.000000\n",
      "dtype: float64\n",
      "1    0.183516\n",
      "2    0.338329\n",
      "3    0.474075\n",
      "4    0.598280\n",
      "5    0.717168\n",
      "6    0.823405\n",
      "7    0.919942\n",
      "8    1.000000\n",
      "dtype: float64\n"
     ]
    },
    {
     "data": {
      "text/plain": [
       "Text(0.5, 1.0, 'Figure 2: Principal Components of Breaks')"
      ]
     },
     "execution_count": 17,
     "metadata": {},
     "output_type": "execute_result"
    },
    {
     "data": {
      "image/png": "[encoded data removed]",
      "text/plain": [
       "<Figure size 432x288 with 1 Axes>"
      ]
     },
     "metadata": {
      "needs_background": "light"
     },
     "output_type": "display_data"
    }
   ],
   "source": [
    "def explained(scale):\n",
    "    stages = [(\"imp\", SimpleImputer(strategy=\"most_frequent\"))]\n",
    "    if scale:\n",
    "        stages.append((\"std\", StandardScaler()))\n",
    "    stages.append((\"pca\", PCA()))\n",
    "    p = Pipeline(stages)\n",
    "    p.fit(mains[xcols])\n",
    "    #print(p[\"pca\"].components_.round(2))\n",
    "    explained = p[\"pca\"].explained_variance_\n",
    "    s = pd.Series(explained.cumsum() / explained.sum(),\n",
    "                  index=range(1, len(xcols)+1))\n",
    "    print(s)\n",
    "    return s\n",
    "ax = explained(False).plot.line(label=\"not scaled\", ylim=0)\n",
    "explained(True).plot.line(label=\"scaled\", ax=ax)\n",
    "ax.set_xlabel(\"Number of Components\")\n",
    "ax.set_ylabel(\"Explained Variance\")\n",
    "ax.spines[\"top\"].set_visible(False)\n",
    "ax.spines[\"right\"].set_visible(False)\n",
    "ax.legend(frameon=False)\n",
    "ax.set_title(\"Figure 2: Principal Components of Breaks\", pad=20)"
   ]
  },
  {
   "cell_type": "code",
   "execution_count": 18,
   "metadata": {},
   "outputs": [
    {
     "data": {
      "text/plain": [
       "((2024, 13), (675, 13))"
      ]
     },
     "execution_count": 18,
     "metadata": {},
     "output_type": "execute_result"
    }
   ],
   "source": [
    "train, test = train_test_split(mains, stratify=mains[\"break_again\"], random_state=0)\n",
    "train.shape, test.shape"
   ]
  },
  {
   "cell_type": "code",
   "execution_count": 19,
   "metadata": {},
   "outputs": [
    {
     "name": "stdout",
     "output_type": "stream",
     "text": [
      "Score 0.7125925925925926\n",
      "Recall 0.11\n",
      "Precision 0.5789473684210527\n",
      "[[68.          2.37037037]\n",
      " [26.37037037  3.25925926]]\n",
      "Score 0.6533333333333333\n",
      "Recall 0.55\n",
      "Precision 0.4330708661417323\n",
      "[[49.03703704 21.33333333]\n",
      " [13.33333333 16.2962963 ]]\n"
     ]
    }
   ],
   "source": [
    "def do_eval(balanced=None):\n",
    "    p = Pipeline([\n",
    "        (\"imp\", SimpleImputer(strategy=\"most_frequent\")),\n",
    "        (\"std\", StandardScaler()),\n",
    "        (\"lr\", LogisticRegression(class_weight=balanced)),\n",
    "    ])\n",
    "    p.fit(train[xcols], train[ycol])\n",
    "    print(\"Score\", p.score(test[xcols], test[ycol]))\n",
    "    print(\"Recall\", recall_score(test[ycol], p.predict(test[xcols])))\n",
    "    print(\"Precision\", precision_score(test[ycol], p.predict(test[xcols])))\n",
    "    print(confusion_matrix(test[ycol], p.predict(test[xcols])) / len(test) * 100)\n",
    "    return p\n",
    "p = do_eval()\n",
    "p = do_eval(\"balanced\")"
   ]
  },
  {
   "cell_type": "code",
   "execution_count": 20,
   "metadata": {},
   "outputs": [
    {
     "data": {
      "text/plain": [
       "Text(0.5, 1.0, 'Figure 3: Logistic Regression Coefficients')"
      ]
     },
     "execution_count": 20,
     "metadata": {},
     "output_type": "execute_result"
    },
    {
     "data": {
      "image/png": "[encoded data removed]",
      "text/plain": [
       "<Figure size 432x288 with 1 Axes>"
      ]
     },
     "metadata": {
      "needs_background": "light"
     },
     "output_type": "display_data"
    }
   ],
   "source": [
    "idx = [t.replace(\"_\", \" \") for t in xcols]\n",
    "ax = pd.Series(p[\"lr\"].coef_[0], index=idx).plot.barh()\n",
    "ax.set_xlabel(\"Weight\")\n",
    "ax.set_ylabel(\"Feature\")\n",
    "ax.spines[\"top\"].set_visible(False)\n",
    "ax.spines[\"right\"].set_visible(False)\n",
    "ax.set_title(\"Figure 3: Logistic Regression Coefficients\", pad=20)"
   ]
  },
  {
   "cell_type": "code",
   "execution_count": null,
   "metadata": {},
   "outputs": [],
   "source": []
  }
 ],
 "metadata": {
  "kernelspec": {
   "display_name": "Python 3",
   "language": "python",
   "name": "python3"
  },
  "language_info": {
   "codemirror_mode": {
    "name": "ipython",
    "version": 3
   },
   "file_extension": ".py",
   "mimetype": "text/x-python",
   "name": "python",
   "nbconvert_exporter": "python",
   "pygments_lexer": "ipython3",
   "version": "3.7.2"
  }
 },
 "nbformat": 4,
 "nbformat_minor": 2
}
